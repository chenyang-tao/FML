{
 "cells": [
  {
   "cell_type": "markdown",
   "metadata": {},
   "source": [
    "$\n",
    "\\newcommand{\\ud}{\\, \\text{d}}\n",
    "$"
   ]
  },
  {
   "cell_type": "markdown",
   "metadata": {},
   "source": [
    "## Learning a Gaussian with FML : - )"
   ]
  },
  {
   "cell_type": "code",
   "execution_count": 1,
   "metadata": {
    "collapsed": true
   },
   "outputs": [],
   "source": [
    "import os\n",
    "import sys\n",
    "import time\n",
    "\n",
    "import numpy as np\n",
    "import tensorflow as tf\n",
    "\n",
    "\n",
    "import seaborn as sns\n",
    "\n",
    "import matplotlib.pyplot as plt\n",
    "%matplotlib inline\n",
    "\n",
    "config = tf.ConfigProto()\n",
    "config.gpu_options.allow_growth = True\n",
    "config.allow_soft_placement=True\n",
    "\n",
    "sess = tf.Session(config=config)"
   ]
  },
  {
   "cell_type": "code",
   "execution_count": 2,
   "metadata": {
    "collapsed": true
   },
   "outputs": [],
   "source": [
    "class flags:\n",
    "    \n",
    "    dim = 1\n",
    "    \n",
    "    # optimization\n",
    "    learning_rate = 1e-3 # Base learning rate\n",
    "    lr_decay = 0.999995 # Learning rate decay, applied every step of the optimization\n",
    "    \n",
    "    batch_size = 128 # Batch size during training per GPU\n",
    "    \n",
    "    \n",
    "FLAGS = flags()\n",
    "args = FLAGS\n",
    "\n",
    "DTYPE = tf.float32"
   ]
  },
  {
   "cell_type": "code",
   "execution_count": 3,
   "metadata": {
    "code_folding": [
     0,
     28
    ],
    "collapsed": true
   },
   "outputs": [],
   "source": [
    "def tf_eval(tf_tensor,n_samples,feed_dict=None):\n",
    "    \n",
    "    MLOOP = np.int(np.ceil(n_samples/args.batch_size))\n",
    "    \n",
    "    dd = tf_tensor.shape.as_list()[1:]\n",
    "    dd.insert(0,n_samples)\n",
    "    \n",
    "    x = np.zeros(dd)\n",
    "    \n",
    "    for mloop in range(MLOOP):\n",
    "        \n",
    "        st = mloop*args.batch_size\n",
    "        ed = min((mloop+1)*args.batch_size,n_samples)\n",
    "        \n",
    "        if feed_dict is not None:\n",
    "            feed_dict_i = dict()\n",
    "            for key in feed_dict.keys():\n",
    "                feed_dict_i[key] = np.random.randn(*int_shape(key))\n",
    "                feed_dict_i[key][:ed-st] = feed_dict[key][st:ed]\n",
    "            y = sess.run(tf_tensor,feed_dict=feed_dict_i)\n",
    "        else:\n",
    "            y = sess.run(tf_tensor)\n",
    "        \n",
    "        # print([st,ed])\n",
    "        x[st:ed] = y[:ed-st]\n",
    "    \n",
    "    return x\n",
    "\n",
    "def tf_eval_list(tf_tensor_list,n_samples,feed_dict=None):\n",
    "    \n",
    "    if isinstance(tf_tensor_list, list)==False:\n",
    "        print('Input not a list')\n",
    "        return None\n",
    "    \n",
    "    MLOOP = np.int(np.ceil(n_samples/args.batch_size))\n",
    "    \n",
    "    res = dict()\n",
    "\n",
    "    for key in tf_tensor_list:\n",
    "        dd = key.shape.as_list()[1:]\n",
    "        dd.insert(0,n_samples)\n",
    "        res[key] = np.zeros(dd)\n",
    "    \n",
    "    for mloop in range(MLOOP):\n",
    "        \n",
    "        st = mloop*args.batch_size\n",
    "        ed = min((mloop+1)*args.batch_size,n_samples)\n",
    "        \n",
    "        if feed_dict is not None:\n",
    "            feed_dict_i = dict()\n",
    "            for key in feed_dict.keys():\n",
    "                feed_dict_i[key] = np.random.randn(*int_shape(key))\n",
    "                feed_dict_i[key][:ed-st] = feed_dict[key][st:ed]\n",
    "            # print(feed_dict_i)\n",
    "            y = sess.run(tf_tensor_list,feed_dict=feed_dict_i)\n",
    "        else:\n",
    "            y = sess.run(tf_tensor_list)\n",
    "        \n",
    "        for i in range(len(tf_tensor_list)):\n",
    "            res[tf_tensor_list[i]][st:ed] = y[i][:ed-st]\n",
    "    \n",
    "    return res"
   ]
  },
  {
   "cell_type": "code",
   "execution_count": 4,
   "metadata": {
    "collapsed": true
   },
   "outputs": [],
   "source": [
    "\n",
    "\n",
    "def tf_gauss_logpdf(x,mu=0.,sig2=1.):\n",
    "    \n",
    "    return -tf.square(x-mu)/(2.*sig2)-.5*tf.log(2.*np.pi*sig2)\n",
    "\n",
    "def tf_unnorm_gauss_logpdf(x,mu=0.,sig2=1.):\n",
    "    \n",
    "    return -tf.square(x-mu)/(2.*sig2)\n",
    "\n",
    "\n",
    "def tf_unif_sampler(n_samples,a=0.,b=1.):\n",
    "    \n",
    "    return a+(b-a)*tf.random_uniform([n_samples,])"
   ]
  },
  {
   "cell_type": "code",
   "execution_count": 5,
   "metadata": {
    "collapsed": true
   },
   "outputs": [],
   "source": [
    "mu_0 = -1.\n",
    "sig2_0 = 2.25\n",
    "\n",
    "a_0 = -5.\n",
    "b_0 = 5.\n",
    "\n",
    "n_samples = 1000\n",
    "# x_train = np.random.randn(n_samples,1)\n",
    "# xx,_ = gauss_sampler_n_logpdf(n_samples,mu=mu_0,sig2=sig2_0)\n",
    "\n",
    "x_train = mu_0 + np.sqrt(sig2_0)*np.random.randn(n_samples,1)"
   ]
  },
  {
   "cell_type": "code",
   "execution_count": 6,
   "metadata": {
    "collapsed": true
   },
   "outputs": [],
   "source": [
    "input_ind = tf.placeholder(tf.int32, shape=[FLAGS.batch_size])\n",
    "input_x = tf.placeholder(tf.float32, shape=[FLAGS.batch_size,FLAGS.dim])\n",
    "\n",
    "\n",
    "with tf.variable_scope('model',reuse=tf.AUTO_REUSE):\n",
    "    embeddings = tf.get_variable('embeddings',shape=[n_samples,1])\n",
    "    mu = tf.get_variable('mu',shape=[1,])\n",
    "    logsig2 = tf.get_variable('logsig2',shape=[1,])\n",
    "    \n",
    "sig2 = tf.exp(logsig2)\n",
    "\n",
    "psi = lambda x: -tf_unnorm_gauss_logpdf(x, mu=mu, sig2=sig2)\n",
    "\n",
    "    \n",
    "u_params = embeddings\n",
    "psi_params = [mu,logsig2]\n",
    "\n",
    "u_x = tf.nn.embedding_lookup(embeddings, input_ind)\n",
    "\n",
    "prop_q = tf_unif_sampler(FLAGS.batch_size,a=a_0,b=b_0)\n",
    "\n",
    "\n",
    "psi_x = psi(input_x)\n",
    "psi_q = psi(prop_q)\n",
    "\n",
    "I_x = tf.exp(psi_x - psi_q)*(b_0-a_0)  # volume of the integral must be accounted for\n",
    "\n",
    "loss = tf.reduce_mean(-u_x-tf.exp(-u_x)*I_x)"
   ]
  },
  {
   "cell_type": "code",
   "execution_count": 7,
   "metadata": {
    "collapsed": true
   },
   "outputs": [],
   "source": [
    "learning_rate = tf.placeholder(tf.float32)\n",
    "\n",
    "u_learning_rate = learning_rate\n",
    "u_optimizer = tf.train.AdamOptimizer(u_learning_rate)\n",
    "train_u = u_optimizer.minimize(-loss,var_list=u_params)\n",
    "\n",
    "psi_learning_rate = 1e-1*learning_rate\n",
    "psi_optimizer = tf.train.AdamOptimizer(psi_learning_rate)\n",
    "# train_psi = psi_optimizer.minimize(loss, var_list=psi_params)\n",
    "train_psi = psi_optimizer.minimize(-loss, var_list=psi_params)"
   ]
  },
  {
   "cell_type": "code",
   "execution_count": 8,
   "metadata": {
    "collapsed": true
   },
   "outputs": [],
   "source": [
    "initializer = tf.global_variables_initializer()\n",
    "sess.run(initializer)"
   ]
  },
  {
   "cell_type": "code",
   "execution_count": 9,
   "metadata": {
    "collapsed": true
   },
   "outputs": [],
   "source": [
    "true_logp_x = tf_gauss_logpdf(input_x, mu=mu_0, sig2=sig2_0)\n",
    "\n",
    "true_mdl_logp_x = tf_gauss_logpdf(input_x, mu=mu, sig2=sig2)"
   ]
  },
  {
   "cell_type": "code",
   "execution_count": 10,
   "metadata": {},
   "outputs": [
    {
     "name": "stdout",
     "output_type": "stream",
     "text": [
      "Ground Truth: -0.63\n",
      "Current Estimate: -0.04\n"
     ]
    }
   ],
   "source": [
    "inds = np.array(range(FLAGS.batch_size))\n",
    "xx = x_train[inds]\n",
    "\n",
    "ii = 0\n",
    "\n",
    "print('Ground Truth: %.2f' % sess.run(true_mdl_logp_x,{input_x:xx})[ii])\n",
    "print('Current Estimate: %.2f' % -sess.run(u_x, {input_ind:inds})[ii])"
   ]
  },
  {
   "cell_type": "code",
   "execution_count": 11,
   "metadata": {
    "collapsed": true
   },
   "outputs": [],
   "source": [
    "_ = sess.run([tf.assign(mu,[1.]),tf.assign(logsig2,np.log([1.44]))])"
   ]
  },
  {
   "cell_type": "code",
   "execution_count": 12,
   "metadata": {},
   "outputs": [
    {
     "name": "stdout",
     "output_type": "stream",
     "text": [
      "Ground Truth: N(-1.00, 2.25), Model: N(1.00, 1.44)\n"
     ]
    }
   ],
   "source": [
    "mu_val, sig2_val = sess.run([mu,sig2])\n",
    "\n",
    "print('Ground Truth: N(%.2f, %.2f), Model: N(%.2f, %.2f)' % \\\n",
    "     (mu_0, sig2_0, mu_val, sig2_val))"
   ]
  },
  {
   "cell_type": "code",
   "execution_count": 13,
   "metadata": {},
   "outputs": [
    {
     "name": "stdout",
     "output_type": "stream",
     "text": [
      "Mean Abs Error: 3.10\n",
      "Mean Abs Error: 2.98\n",
      "Mean Abs Error: 2.93\n",
      "Mean Abs Error: 2.57\n",
      "Mean Abs Error: 2.55\n",
      "Mean Abs Error: 2.36\n",
      "Mean Abs Error: 2.15\n",
      "Mean Abs Error: 2.28\n",
      "Mean Abs Error: 2.06\n",
      "Mean Abs Error: 2.04\n",
      "Mean Abs Error: 2.07\n",
      "Mean Abs Error: 1.67\n",
      "Mean Abs Error: 1.63\n",
      "Mean Abs Error: 1.59\n",
      "Mean Abs Error: 1.47\n",
      "Mean Abs Error: 1.77\n",
      "Mean Abs Error: 1.16\n",
      "Mean Abs Error: 1.20\n",
      "Mean Abs Error: 1.32\n",
      "Mean Abs Error: 1.28\n"
     ]
    },
    {
     "data": {
      "image/png": "[encoded data removed]",
      "text/plain": [
       "<Figure size 432x288 with 1 Axes>"
      ]
     },
     "metadata": {
      "needs_background": "light"
     },
     "output_type": "display_data"
    }
   ],
   "source": [
    "# Estimating likelihood\n",
    "\n",
    "lr = 1e-3\n",
    "\n",
    "max_updates = 500\n",
    "num_iter = 20\n",
    "\n",
    "loss_record = []\n",
    "\n",
    "for iterId in range(num_iter):\n",
    "    \n",
    "    for step in range(max_updates):\n",
    "        \n",
    "        inds = np.random.choice(n_samples,FLAGS.batch_size)\n",
    "        xx = x_train[inds]\n",
    "        \n",
    "        _ = sess.run(train_u,{input_x: xx, input_ind:inds, learning_rate: lr})\n",
    "        \n",
    "    ii = 0\n",
    "    \n",
    "    # inds = np.array(range(FLAGS.batch_size))\n",
    "    inds = np.random.choice(n_samples,FLAGS.batch_size)\n",
    "    xx = x_train[inds]\n",
    "    true_logp_xx = sess.run(true_mdl_logp_x,{input_x:xx})\n",
    "    est_logp_xx = -sess.run(u_x, {input_ind:inds})\n",
    "    mean_abs_err = np.mean(np.abs(true_logp_xx-est_logp_xx))\n",
    "    print('Mean Abs Error: %.2f' % mean_abs_err)\n",
    "    \n",
    "    loss_record.append(mean_abs_err)\n",
    "    \n",
    "_ = plt.plot(loss_record)"
   ]
  },
  {
   "cell_type": "code",
   "execution_count": 14,
   "metadata": {
    "scrolled": false
   },
   "outputs": [
    {
     "name": "stdout",
     "output_type": "stream",
     "text": [
      "Mean Abs Error: 0.68\n",
      "Ground Truth: N(-1.00, 2.25), Model: N(0.94, 1.53)\n"
     ]
    },
    {
     "data": {
      "image/png": "[encoded data removed]",
      "text/plain": [
       "<Figure size 432x144 with 1 Axes>"
      ]
     },
     "metadata": {
      "needs_background": "light"
     },
     "output_type": "display_data"
    },
    {
     "name": "stdout",
     "output_type": "stream",
     "text": [
      "Mean Abs Error: 0.72\n",
      "Ground Truth: N(-1.00, 2.25), Model: N(0.91, 1.57)\n",
      "Mean Abs Error: 0.53\n",
      "Ground Truth: N(-1.00, 2.25), Model: N(0.88, 1.61)\n",
      "Mean Abs Error: 0.45\n",
      "Ground Truth: N(-1.00, 2.25), Model: N(0.86, 1.65)\n",
      "Mean Abs Error: 0.40\n",
      "Ground Truth: N(-1.00, 2.25), Model: N(0.84, 1.68)\n"
     ]
    },
    {
     "data": {
      "image/png": "[encoded data removed]",
      "text/plain": [
       "<Figure size 432x144 with 1 Axes>"
      ]
     },
     "metadata": {
      "needs_background": "light"
     },
     "output_type": "display_data"
    },
    {
     "name": "stdout",
     "output_type": "stream",
     "text": [
      "Mean Abs Error: 0.36\n",
      "Ground Truth: N(-1.00, 2.25), Model: N(0.82, 1.70)\n",
      "Mean Abs Error: 0.45\n",
      "Ground Truth: N(-1.00, 2.25), Model: N(0.81, 1.73)\n",
      "Mean Abs Error: 0.37\n",
      "Ground Truth: N(-1.00, 2.25), Model: N(0.79, 1.76)\n",
      "Mean Abs Error: 0.39\n",
      "Ground Truth: N(-1.00, 2.25), Model: N(0.77, 1.78)\n",
      "Mean Abs Error: 0.19\n",
      "Ground Truth: N(-1.00, 2.25), Model: N(0.76, 1.81)\n"
     ]
    },
    {
     "data": {
      "image/png": "[encoded data removed]",
      "text/plain": [
       "<Figure size 432x144 with 1 Axes>"
      ]
     },
     "metadata": {
      "needs_background": "light"
     },
     "output_type": "display_data"
    },
    {
     "name": "stdout",
     "output_type": "stream",
     "text": [
      "Mean Abs Error: 0.29\n",
      "Ground Truth: N(-1.00, 2.25), Model: N(0.74, 1.84)\n",
      "Mean Abs Error: 0.16\n",
      "Ground Truth: N(-1.00, 2.25), Model: N(0.72, 1.86)\n",
      "Mean Abs Error: 0.33\n",
      "Ground Truth: N(-1.00, 2.25), Model: N(0.71, 1.89)\n",
      "Mean Abs Error: 0.17\n",
      "Ground Truth: N(-1.00, 2.25), Model: N(0.69, 1.91)\n",
      "Mean Abs Error: 0.08\n",
      "Ground Truth: N(-1.00, 2.25), Model: N(0.68, 1.94)\n"
     ]
    },
    {
     "data": {
      "image/png": "[encoded data removed]",
      "text/plain": [
       "<Figure size 432x144 with 1 Axes>"
      ]
     },
     "metadata": {
      "needs_background": "light"
     },
     "output_type": "display_data"
    },
    {
     "name": "stdout",
     "output_type": "stream",
     "text": [
      "Mean Abs Error: 0.13\n",
      "Ground Truth: N(-1.00, 2.25), Model: N(0.66, 1.96)\n",
      "Mean Abs Error: 0.14\n",
      "Ground Truth: N(-1.00, 2.25), Model: N(0.65, 1.99)\n",
      "Mean Abs Error: 0.10\n",
      "Ground Truth: N(-1.00, 2.25), Model: N(0.63, 2.02)\n",
      "Mean Abs Error: 0.13\n",
      "Ground Truth: N(-1.00, 2.25), Model: N(0.61, 2.04)\n",
      "Mean Abs Error: 0.08\n",
      "Ground Truth: N(-1.00, 2.25), Model: N(0.60, 2.07)\n"
     ]
    },
    {
     "data": {
      "image/png": "[encoded data removed]",
      "text/plain": [
       "<Figure size 432x144 with 1 Axes>"
      ]
     },
     "metadata": {
      "needs_background": "light"
     },
     "output_type": "display_data"
    },
    {
     "name": "stdout",
     "output_type": "stream",
     "text": [
      "Mean Abs Error: 0.19\n",
      "Ground Truth: N(-1.00, 2.25), Model: N(0.58, 2.10)\n",
      "Mean Abs Error: 0.07\n",
      "Ground Truth: N(-1.00, 2.25), Model: N(0.56, 2.13)\n",
      "Mean Abs Error: 0.06\n",
      "Ground Truth: N(-1.00, 2.25), Model: N(0.54, 2.16)\n",
      "Mean Abs Error: 0.03\n",
      "Ground Truth: N(-1.00, 2.25), Model: N(0.52, 2.19)\n",
      "Mean Abs Error: 0.09\n",
      "Ground Truth: N(-1.00, 2.25), Model: N(0.50, 2.22)\n"
     ]
    },
    {
     "data": {
      "image/png": "[encoded data removed]",
      "text/plain": [
       "<Figure size 432x144 with 1 Axes>"
      ]
     },
     "metadata": {
      "needs_background": "light"
     },
     "output_type": "display_data"
    },
    {
     "name": "stdout",
     "output_type": "stream",
     "text": [
      "Mean Abs Error: 0.07\n",
      "Ground Truth: N(-1.00, 2.25), Model: N(0.47, 2.25)\n",
      "Mean Abs Error: 0.05\n",
      "Ground Truth: N(-1.00, 2.25), Model: N(0.45, 2.28)\n",
      "Mean Abs Error: 0.06\n",
      "Ground Truth: N(-1.00, 2.25), Model: N(0.42, 2.32)\n",
      "Mean Abs Error: 0.08\n",
      "Ground Truth: N(-1.00, 2.25), Model: N(0.38, 2.35)\n",
      "Mean Abs Error: 0.02\n",
      "Ground Truth: N(-1.00, 2.25), Model: N(0.35, 2.39)\n"
     ]
    },
    {
     "data": {
      "image/png": "[encoded data removed]",
      "text/plain": [
       "<Figure size 432x144 with 1 Axes>"
      ]
     },
     "metadata": {
      "needs_background": "light"
     },
     "output_type": "display_data"
    },
    {
     "name": "stdout",
     "output_type": "stream",
     "text": [
      "Mean Abs Error: 0.02\n",
      "Ground Truth: N(-1.00, 2.25), Model: N(0.31, 2.43)\n",
      "Mean Abs Error: 0.03\n",
      "Ground Truth: N(-1.00, 2.25), Model: N(0.26, 2.46)\n",
      "Mean Abs Error: 0.03\n",
      "Ground Truth: N(-1.00, 2.25), Model: N(0.21, 2.50)\n",
      "Mean Abs Error: 0.04\n",
      "Ground Truth: N(-1.00, 2.25), Model: N(0.15, 2.54)\n",
      "Mean Abs Error: 0.02\n",
      "Ground Truth: N(-1.00, 2.25), Model: N(0.09, 2.58)\n"
     ]
    },
    {
     "data": {
      "image/png": "[encoded data removed]",
      "text/plain": [
       "<Figure size 432x144 with 1 Axes>"
      ]
     },
     "metadata": {
      "needs_background": "light"
     },
     "output_type": "display_data"
    },
    {
     "name": "stdout",
     "output_type": "stream",
     "text": [
      "Mean Abs Error: 0.03\n",
      "Ground Truth: N(-1.00, 2.25), Model: N(0.02, 2.61)\n",
      "Mean Abs Error: 0.02\n",
      "Ground Truth: N(-1.00, 2.25), Model: N(-0.06, 2.64)\n",
      "Mean Abs Error: 0.03\n",
      "Ground Truth: N(-1.00, 2.25), Model: N(-0.14, 2.66)\n",
      "Mean Abs Error: 0.02\n",
      "Ground Truth: N(-1.00, 2.25), Model: N(-0.22, 2.68)\n",
      "Mean Abs Error: 0.04\n",
      "Ground Truth: N(-1.00, 2.25), Model: N(-0.31, 2.69)\n"
     ]
    },
    {
     "data": {
      "image/png": "[encoded data removed]",
      "text/plain": [
       "<Figure size 432x144 with 1 Axes>"
      ]
     },
     "metadata": {
      "needs_background": "light"
     },
     "output_type": "display_data"
    },
    {
     "name": "stdout",
     "output_type": "stream",
     "text": [
      "Mean Abs Error: 0.01\n",
      "Ground Truth: N(-1.00, 2.25), Model: N(-0.40, 2.68)\n",
      "Mean Abs Error: 0.02\n",
      "Ground Truth: N(-1.00, 2.25), Model: N(-0.49, 2.66)\n",
      "Mean Abs Error: 0.02\n",
      "Ground Truth: N(-1.00, 2.25), Model: N(-0.57, 2.61)\n",
      "Mean Abs Error: 0.02\n",
      "Ground Truth: N(-1.00, 2.25), Model: N(-0.66, 2.56)\n",
      "Mean Abs Error: 0.02\n",
      "Ground Truth: N(-1.00, 2.25), Model: N(-0.73, 2.49)\n"
     ]
    },
    {
     "data": {
      "image/png": "[encoded data removed]",
      "text/plain": [
       "<Figure size 432x144 with 1 Axes>"
      ]
     },
     "metadata": {
      "needs_background": "light"
     },
     "output_type": "display_data"
    },
    {
     "name": "stdout",
     "output_type": "stream",
     "text": [
      "Mean Abs Error: 0.02\n",
      "Ground Truth: N(-1.00, 2.25), Model: N(-0.80, 2.42)\n",
      "Mean Abs Error: 0.02\n",
      "Ground Truth: N(-1.00, 2.25), Model: N(-0.86, 2.36)\n",
      "Mean Abs Error: 0.03\n",
      "Ground Truth: N(-1.00, 2.25), Model: N(-0.91, 2.30)\n",
      "Mean Abs Error: 0.02\n",
      "Ground Truth: N(-1.00, 2.25), Model: N(-0.94, 2.28)\n",
      "Mean Abs Error: 0.02\n",
      "Ground Truth: N(-1.00, 2.25), Model: N(-0.96, 2.26)\n"
     ]
    },
    {
     "data": {
      "image/png": "[encoded data removed]",
      "text/plain": [
       "<Figure size 432x144 with 1 Axes>"
      ]
     },
     "metadata": {
      "needs_background": "light"
     },
     "output_type": "display_data"
    },
    {
     "data": {
      "image/png": "[encoded data removed]",
      "text/plain": [
       "<Figure size 432x288 with 1 Axes>"
      ]
     },
     "metadata": {
      "needs_background": "light"
     },
     "output_type": "display_data"
    }
   ],
   "source": [
    "# Maximizing likelihood\n",
    "\n",
    "lr = 3e-3\n",
    "max_updates = 500\n",
    "num_iter = 50\n",
    "\n",
    "\n",
    "\n",
    "loss_record = []\n",
    "\n",
    "for iterId in range(num_iter):\n",
    "    \n",
    "    for step in range(max_updates):\n",
    "        \n",
    "        inds = np.random.choice(n_samples,FLAGS.batch_size)\n",
    "        xx = x_train[inds]\n",
    "        \n",
    "        # _ = sess.run(train_u,{input_x: xx, input_ind:inds, learning_rate: lr})\n",
    "        _,_ = sess.run([train_u, train_psi],{input_x: xx, input_ind:inds, learning_rate: lr})\n",
    "        \n",
    "    # ii = np.random.choice()\n",
    "    ii = 0\n",
    "    \n",
    "    # inds = np.array(range(FLAGS.batch_size))\n",
    "    inds = np.random.choice(n_samples,FLAGS.batch_size)\n",
    "    xx = x_train[inds]\n",
    "    true_logp_xx = sess.run(true_mdl_logp_x,{input_x:xx})\n",
    "    est_logp_xx = -sess.run(u_x, {input_ind:inds})\n",
    "    mean_abs_err = np.mean(np.abs(true_logp_xx-est_logp_xx))\n",
    "    print('Mean Abs Error: %.2f' % mean_abs_err)\n",
    "    \n",
    "    mu_val, sig2_val = sess.run([mu,sig2])\n",
    "\n",
    "    print('Ground Truth: N(%.2f, %.2f), Model: N(%.2f, %.2f)' % \\\n",
    "         (mu_0, sig2_0, mu_val, sig2_val))\n",
    "    \n",
    "    if (iterId+1)%5==0 or iterId==0:\n",
    "        \n",
    "        _ = plt.figure(figsize=(6,2))\n",
    "    \n",
    "        m_samples = 5000\n",
    "        true_samples = mu_0 + np.sqrt(sig2_0)*np.random.randn(m_samples,)\n",
    "        mdl_samples = mu_val + np.sqrt(sig2_val)*np.random.randn(m_samples,)\n",
    "        _ = plt.hist([true_samples,mdl_samples],range=[-5.5,5.5],bins=30)\n",
    "\n",
    "        _ = plt.show()\n",
    "    \n",
    "    loss_record.append(mean_abs_err)\n",
    "    \n",
    "_ = plt.plot(loss_record)"
   ]
  }
 ],
 "metadata": {
  "kernelspec": {
   "display_name": "Python 3",
   "language": "python",
   "name": "python3"
  },
  "language_info": {
   "codemirror_mode": {
    "name": "ipython",
    "version": 3
   },
   "file_extension": ".py",
   "mimetype": "text/x-python",
   "name": "python",
   "nbconvert_exporter": "python",
   "pygments_lexer": "ipython3",
   "version": "3.5.2"
  }
 },
 "nbformat": 4,
 "nbformat_minor": 2
}
