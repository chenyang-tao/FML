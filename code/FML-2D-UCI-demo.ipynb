{
 "cells": [
  {
   "cell_type": "markdown",
   "metadata": {},
   "source": [
    "$\n",
    "\\newcommand{\\ud}{\\, \\text{d}}\n",
    "$"
   ]
  },
  {
   "cell_type": "markdown",
   "metadata": {},
   "source": [
    "#### Frenchel Mini-Max Learning using GMM proposal"
   ]
  },
  {
   "cell_type": "code",
   "execution_count": 1,
   "metadata": {
    "collapsed": true
   },
   "outputs": [],
   "source": [
    "import os\n",
    "import sys\n",
    "from time import time\n",
    "\n",
    "import numpy as np\n",
    "import tensorflow as tf\n",
    "\n",
    "import seaborn as sns\n",
    "\n",
    "import matplotlib.pyplot as plt\n",
    "%matplotlib inline\n",
    "\n",
    "# Allow growth to curb resource drain\n",
    "\n",
    "config = tf.ConfigProto()\n",
    "config.gpu_options.allow_growth = True\n",
    "config.allow_soft_placement=True\n",
    "\n",
    "sess = tf.Session(config=config)"
   ]
  },
  {
   "cell_type": "code",
   "execution_count": 2,
   "metadata": {
    "code_folding": [
     0
    ],
    "collapsed": true
   },
   "outputs": [],
   "source": [
    "class flags:\n",
    "    \n",
    "    dim = 2\n",
    "    \n",
    "    # optimization\n",
    "    learning_rate = 1e-3 # Base learning rate\n",
    "    lr_decay = 0.999995 # Learning rate decay, applied every step of the optimization\n",
    "    \n",
    "    batch_size = 128 # Batch size during training per GPU\n",
    "    \n",
    "    \n",
    "FLAGS = flags()\n",
    "args = FLAGS\n",
    "\n",
    "DTYPE = tf.float32"
   ]
  },
  {
   "cell_type": "code",
   "execution_count": 3,
   "metadata": {
    "code_folding": [
     0,
     3
    ],
    "collapsed": true
   },
   "outputs": [],
   "source": [
    "def int_shape(x):\n",
    "    return list(map(int, x.get_shape()))\n",
    "\n",
    "def print_shape(x,varname='variable'):\n",
    "    if x is None:\n",
    "        print('%s size: None' % (varname))\n",
    "        return\n",
    "    x_shape = x.shape.as_list()\n",
    "    # print('%s size: [%d,%d,%d]' % (varname,x_shape[1],x_shape[2],x_shape[3]))\n",
    "    print(varname+':')\n",
    "    print(x_shape)"
   ]
  },
  {
   "cell_type": "code",
   "execution_count": 4,
   "metadata": {
    "code_folding": [
     0,
     27
    ],
    "collapsed": true
   },
   "outputs": [],
   "source": [
    "def tf_eval(tf_tensor,n_samples,feed_dict=None):\n",
    "    \n",
    "    MLOOP = np.int(np.ceil(np.float(n_samples)/args.batch_size))\n",
    "    \n",
    "    dd = tf_tensor.shape.as_list()[1:]\n",
    "    dd.insert(0,n_samples)\n",
    "    \n",
    "    x = np.zeros(dd)\n",
    "    \n",
    "    for mloop in range(MLOOP):\n",
    "        \n",
    "        st = mloop*args.batch_size\n",
    "        ed = min((mloop+1)*args.batch_size,n_samples)\n",
    "        \n",
    "        if feed_dict is not None:\n",
    "            feed_dict_i = dict()\n",
    "            for key in feed_dict.keys():\n",
    "                feed_dict_i[key] = np.random.randn(*int_shape(key))\n",
    "                feed_dict_i[key][:ed-st] = feed_dict[key][st:ed]\n",
    "            y = sess.run(tf_tensor,feed_dict=feed_dict_i)\n",
    "        else:\n",
    "            y = sess.run(tf_tensor)\n",
    "        \n",
    "        x[st:ed] = y[:ed-st]\n",
    "    \n",
    "    return x\n",
    "\n",
    "def tf_eval_list(tf_tensor_list,n_samples,feed_dict=None):\n",
    "    \n",
    "    if isinstance(tf_tensor_list, list)==False:\n",
    "        print('Input not a list')\n",
    "        return None\n",
    "    \n",
    "    MLOOP = np.int(np.ceil(n_samples/args.batch_size))\n",
    "    \n",
    "    res = dict()\n",
    "\n",
    "    for key in tf_tensor_list:\n",
    "        dd = key.shape.as_list()[1:]\n",
    "        dd.insert(0,n_samples)\n",
    "        res[key] = np.zeros(dd)\n",
    "    \n",
    "    for mloop in range(MLOOP):\n",
    "        \n",
    "        st = mloop*args.batch_size\n",
    "        ed = min((mloop+1)*args.batch_size,n_samples)\n",
    "        \n",
    "        if feed_dict is not None:\n",
    "            feed_dict_i = dict()\n",
    "            for key in feed_dict.keys():\n",
    "                feed_dict_i[key] = np.random.randn(*int_shape(key))\n",
    "                feed_dict_i[key][:ed-st] = feed_dict[key][st:ed]\n",
    "            # print(feed_dict_i)\n",
    "            y = sess.run(tf_tensor_list,feed_dict=feed_dict_i)\n",
    "        else:\n",
    "            y = sess.run(tf_tensor_list)\n",
    "        \n",
    "        for i in range(len(tf_tensor_list)):\n",
    "            res[tf_tensor_list[i]][st:ed] = y[i][:ed-st]\n",
    "    \n",
    "    return res"
   ]
  },
  {
   "cell_type": "code",
   "execution_count": 5,
   "metadata": {
    "code_folding": [
     12
    ],
    "collapsed": true
   },
   "outputs": [],
   "source": [
    "\n",
    "def tf_gauss_logpdf(x,mu=0.,sig2=1.):\n",
    "    \n",
    "    return -tf.square(x-mu)/(2.*sig2)-.5*tf.log(2.*np.pi*sig2)\n",
    "\n",
    "def tf_unnorm_gauss_logpdf(x,mu=0.,sig2=1.):\n",
    "    \n",
    "    return -tf.square(x-mu)/(2.*sig2)\n",
    "\n",
    "\n",
    "def tf_unif_sampler(n_samples,dim=1,a=0.,b=1.):\n",
    "    \n",
    "    return a+(b-a)*tf.random_uniform([n_samples,dim])"
   ]
  },
  {
   "cell_type": "markdown",
   "metadata": {},
   "source": [
    "#### Banana distribution\n",
    "* $\\log p(x_1,x_2) = \\displaystyle{\\frac{1}{2}\\left(\\frac{(x_2-\\mu_2)^2}{\\sigma_2^2}+\\frac{(x_1-\\frac{x_2^2}{4})^2}{\\sigma_1^2}\\right)}$\n",
    "* $\\log p(x_1,x_2) = \\displaystyle{\\frac{1}{2}\\left(\\frac{(x_2-\\mu_2)^2}{\\sigma_2^2}+\\frac{(x_1-\\left(\\frac{x_2}{\\kappa}\\right)^2)^2}{\\sigma_1^2}\\right)} + Z(\\mu, \\sigma_1^2, \\sigma_2^2, \\kappa)$\n",
    "  * $(\\mu_2 = 0, \\sigma_2^2 = 2., \\sigma_1^2 = 1, \\kappa = 2)$"
   ]
  },
  {
   "cell_type": "code",
   "execution_count": 6,
   "metadata": {
    "code_folding": [
     0,
     7,
     12,
     22,
     38,
     47,
     52
    ],
    "collapsed": true
   },
   "outputs": [],
   "source": [
    "# Toy models used in our study\n",
    "\n",
    "def banana_logpdf(x,mu_2=0.,sig2_1=1.,sig2_2=2.,kappa=2.):\n",
    "    \n",
    "    neg_psi_x = banana_unnorm_logpdf(x,mu_2, sig2_1, sig2_2, kappa)\n",
    "    neg_logZ_psi = banana_partfunc(mu_2, sig2_1, sig2_2, kappa)\n",
    "    \n",
    "    return neg_psi_x+neg_logZ_psi\n",
    "\n",
    "def banana_partfunc(mu_2=0.,sig2_1=1.,sig2_2=2.,kappa=2.):\n",
    "    \n",
    "    # mu_1 = np.square(x2/kappa)\n",
    "    return -.5*(np.log(2.*np.pi*sig2_1)+np.log(2.*np.pi*sig2_2))\n",
    "\n",
    "def banana_unnorm_logpdf(x,mu_2=0.,sig2_1=1.,sig2_2=2.,kappa=2.):\n",
    "    \n",
    "    x1 = x[:,0].reshape([-1,1])\n",
    "    x2 = x[:,1].reshape([-1,1])\n",
    "    \n",
    "    mu_1 = np.square(x2/kappa)\n",
    "    \n",
    "    return -.5*(((x1-mu_1))**2/sig2_1+((x2-mu_2))**2/sig2_2)\n",
    "\n",
    "\n",
    "def banana_sampler(n,mu_2=0.,sig2_1=1.,sig2_2=2.,kappa=2.):\n",
    "    \n",
    "    sig_1 = np.sqrt(sig2_1)\n",
    "    sig_2 = np.sqrt(sig2_2)\n",
    "    \n",
    "    x2 = mu_2 + sig_2*np.random.randn(n,1)\n",
    "    \n",
    "    mu_1 = np.square(x2/kappa)\n",
    "    \n",
    "    x1 = mu_1 + sig_1*np.random.randn(n,1)\n",
    "    \n",
    "    # x = np.concatenate((x2,10.*x1),axis=1)\n",
    "    x = np.concatenate((x1,x2),axis=1)\n",
    "    \n",
    "    return x\n",
    "\n",
    "def tf_banana_unnorm_logpdf(x,mu_2=0.,sig2_1=1.,sig2_2=2.,kappa=2.):\n",
    "    \n",
    "    x1 = tf.reshape(x[:,0],[-1,1])\n",
    "    x2 = tf.reshape(x[:,1],[-1,1])\n",
    "    \n",
    "    mu_1 = tf.square(x2/kappa)\n",
    "    \n",
    "    return -.5*(tf.square((x1-mu_1))/sig2_1+tf.square((x2-mu_2))/sig2_2)\n",
    "\n",
    "def tf_banana_partfunc(mu_2=0.,sig2_1=1.,sig2_2=2.,kappa=2.):\n",
    "    \n",
    "    # mu_1 = np.square(x2/kappa)\n",
    "    return -.5*(tf.log(2.*np.pi*sig2_1)+tf.log(2.*np.pi*sig2_2))\n",
    "\n",
    "def tf_banana_logpdf(x,mu_2=0.,sig2_1=1.,sig2_2=2.,kappa=2.):\n",
    "    \n",
    "    neg_psi_x = tf_banana_unnorm_logpdf(x,mu_2, sig2_1, sig2_2, kappa)\n",
    "    neg_logZ_psi = tf_banana_partfunc(mu_2, sig2_1, sig2_2, kappa)\n",
    "    \n",
    "    return neg_psi_x+neg_logZ_psi"
   ]
  },
  {
   "cell_type": "code",
   "execution_count": 7,
   "metadata": {
    "code_folding": [
     0,
     5,
     10,
     15,
     20,
     24,
     29,
     34,
     39,
     45,
     57,
     60
    ],
    "collapsed": true
   },
   "outputs": [],
   "source": [
    "def u1_tf_param(z, denom1=0.4, subt1=2, denom2=0.6, subt2=2):\n",
    "    z_norm = tf.sqrt(tf.reduce_sum(tf.square(z),axis=1,keepdims=True))\n",
    "    z1, z2 = z[:,:1], z[:,1:]\n",
    "    return .5*((z_norm-subt1)/denom1)**2 - tf.log(tf.exp(-.5*((z1-subt2)/denom2)**2)+tf.exp(-.5*((z1+subt2)/denom2)**2))\n",
    "\n",
    "def u1_np_param(z, denom1=0.4, subt1=2, denom2=0.6, subt2=2):\n",
    "    z_norm = np.sqrt(np.sum(z**2,axis=1))\n",
    "    z1, z2 = z[:,:1].reshape(-1,), z[:,1:].reshape(-1,)\n",
    "    return .5*((z_norm-subt1)/denom1)**2 - np.log(np.exp(-.5*((z1-subt2)/denom2)**2)+np.exp(-.5*((z1+subt2)/denom2)**2))\n",
    "\n",
    "def w1_np_param(z, denom=4):\n",
    "    z1 = z[:,:1].reshape(-1,)\n",
    "    z2 = z[:,1:].reshape(-1,)\n",
    "    return np.sin(2*np.pi*z1/denom)\n",
    "\n",
    "def w1_tf_param(z, denom=4):\n",
    "    z1 = z[:,:1]\n",
    "    z2 = z[:,1:]\n",
    "    return tf.sin(2*tf.constant(np.pi,dtype=DTYPE)*z1/denom)\n",
    "\n",
    "def u2_np_param(z, denom=0.4, denom_w1=4):\n",
    "    z1, z2 = z[:,:1].reshape(-1,), z[:,1:].reshape(-1,)\n",
    "    return .5*((z2-w1_np_param(z,denom_w1))/denom)**2\n",
    "\n",
    "def u2_tf_param(z, denom=0.4, denom_w1=4):\n",
    "    z1, z2 = z[:,0], z[:,1]\n",
    "    return .5*((z2-w1_tf_param(z,denom_w1))/denom)**2\n",
    "\n",
    "\n",
    "def w3_np_param(z, denom=.3, subt=1):\n",
    "    z1 = z[:,:1].reshape(-1,)\n",
    "    z2 = z[:,1:].reshape(-1,)\n",
    "    return 3*sigmoid((z1-subt)/denom)\n",
    "\n",
    "def w3_tf_param(z, denom=.3, subt=1):\n",
    "    z1 = z[:,:1]\n",
    "    z2 = z[:,1:]\n",
    "    return 3*tf.sigmoid((z1-subt)/denom)\n",
    "\n",
    "def u4_np_param(z, denom1=0.4, denom2=0.35, denom_w1=4, denom_w3=0.3, subt_w3=1):\n",
    "    z1, z2 = z[:,0].reshape(-1,), z[:,1].reshape(-1,)\n",
    "    part1 = np.exp(-.5*((z2-w1_np_param(z, denom_w1))/denom1)**2)\n",
    "    part2 = np.exp(-.5*((z2-w1_np_param(z, denom_w1)+w3_np_param(z,denom_w3, subt_w3))/denom2)**2)\n",
    "    return -np.log(part1+part2)\n",
    "\n",
    "def u4_tf_param(z, denom1=0.4, denom2=0.35, denom_w1=4, denom_w3=0.3, subt_w3=1):\n",
    "    z1, z2 = z[:,0], z[:,1]\n",
    "    # print(z1, z2)\n",
    "    print(z1)\n",
    "    print(z2)\n",
    "    part1 = tf.exp(-.5*((z2-w1_tf_param(z, denom_w1))/denom1)**2)\n",
    "    part2 = tf.exp(-.5*((z2-w1_tf_param(z, denom_w1)+w3_tf_param(z, denom_w3, subt_w3))/denom2)**2)\n",
    "    print(part1)\n",
    "    print(part2)\n",
    "    return -tf.log(part1+part2)\n",
    "\n",
    "\n",
    "def sigmoid(t):\n",
    "    return 1./(1+np.exp(-t))\n",
    "\n",
    "def weighted_sampling(x,w,n_samples):\n",
    "    \n",
    "    sampling_weights = w/np.sum(w)\n",
    "    mn_samples = np.random.multinomial(n_samples,sampling_weights)\n",
    "    ind = np.where(mn_samples)[0]\n",
    "    # subsampl_idx = np.zeros([n_subsamples,],dtype=np.int)\n",
    "    x_shape = np.shape(x)\n",
    "    # x_shape[0] = n_samples\n",
    "    x_samples = np.zeros((n_samples,)+x_shape[1:])\n",
    "    size = np.size(np.where(mn_samples))\n",
    "\n",
    "    counter = 0\n",
    "    for i in range(size):\n",
    "        idx = ind[i]\n",
    "        for j in range(mn_samples[idx]):\n",
    "            x_samples[counter] = x[idx]\n",
    "            counter += 1\n",
    "            \n",
    "    np.random.shuffle(x_samples)\n",
    "    \n",
    "    return x_samples"
   ]
  },
  {
   "cell_type": "code",
   "execution_count": 8,
   "metadata": {
    "code_folding": [
     0,
     22
    ],
    "collapsed": true
   },
   "outputs": [],
   "source": [
    "def kidney_sampler(n_samples,xlim=[0,1],ylim=[0,1],nbin=50, *args, **kwargs):\n",
    "    \n",
    "    tx = np.linspace(xlim[0],xlim[1],nbin)\n",
    "    ty = np.linspace(ylim[0],ylim[1],nbin)\n",
    "\n",
    "    txv,tyv = np.meshgrid(tx, ty, sparse=False, indexing='ij')\n",
    "    txy = np.concatenate((txv.reshape([-1,1]),tyv.reshape([-1,1])),axis=1)\n",
    "    \n",
    "    log_p_grid = -u1_np_param(txy, *args, **kwargs)\n",
    "    # print log_p_grid.shape\n",
    "    p_grid = np.exp(log_p_grid)\n",
    "    x_samples = weighted_sampling(txy,p_grid,n_samples)\n",
    "    # print x_samples.shape\n",
    "    dx = tx[1]-tx[0]\n",
    "    dy = ty[1]-ty[0]\n",
    "    dxy = np.array([dx,dy]).reshape([1,2])\n",
    "    \n",
    "    x_samples = x_samples + np.random.rand(n_samples,2)*dxy\n",
    "    \n",
    "    x_samples = x_samples.astype('float32')\n",
    "    return x_samples\n",
    "\n",
    "def tf_kidney_unnorm_logpdf(z, denom1=0.4, subt1=2, denom2=0.6, subt2=2):\n",
    "    z_norm = tf.sqrt(tf.reduce_sum(tf.square(z),axis=1,keepdims=True))\n",
    "    z1, z2 = z[:,:1], z[:,1:]\n",
    "    result = .5*((z_norm-subt1)/denom1)**2 - tf.log(tf.exp(-.5*((z1-subt2)/denom2)**2)+tf.exp(-.5*((z1+subt2)/denom2)**2))\n",
    "    return -result\n",
    "    \n",
    "    "
   ]
  },
  {
   "cell_type": "code",
   "execution_count": 9,
   "metadata": {
    "code_folding": [
     0,
     27
    ],
    "collapsed": true
   },
   "outputs": [],
   "source": [
    "def rings_np_param(x, s0=.2, s1=.2, s2=.2, s3=.2, r1=1, r2=2, r3=3, w0=.25, w1=.25, w2=.25, w3=.25):\n",
    "    \n",
    "    ws = np.array([w0,w1,w2,w3]).reshape([1,-1])\n",
    "    \n",
    "    x1 = x[:,0].reshape([-1,1])\n",
    "    x2 = x[:,1].reshape([-1,1])\n",
    "    \n",
    "    rx = np.sqrt(x1**2+x2**2)\n",
    "    \n",
    "    log_p0 = logp_gauss(rx,0.,s0)\n",
    "    \n",
    "    log_p1 = logp_gauss(rx,r1,s1)\n",
    "    log_p2 = logp_gauss(rx,r2,s2)\n",
    "    log_p3 = logp_gauss(rx,r3,s3)\n",
    "    \n",
    "    log_ps = np.concatenate([log_p0,log_p1,log_p2,log_p3],axis=1)\n",
    "    \n",
    "    log_p_max = np.max(log_ps,axis=1).reshape([-1,1])\n",
    "    \n",
    "    log_p = log_p_max+np.log(np.sum(ws*(np.exp(log_ps-log_p_max)),axis=1,keepdims=True))\n",
    "    \n",
    "    log_p = np.reshape(log_p,[-1,])\n",
    "    \n",
    "    return -log_p\n",
    "    \n",
    "    \n",
    "    \n",
    "def logp_gauss(x,mu,sig):\n",
    "    \n",
    "    sig2 = sig**2\n",
    "    return -.5*((x-mu)**2/sig2 + np.log(2.*np.pi*sig2))\n",
    "    \n",
    "    return -log_p\n",
    "    "
   ]
  },
  {
   "cell_type": "code",
   "execution_count": 10,
   "metadata": {
    "code_folding": [
     0
    ],
    "collapsed": true
   },
   "outputs": [],
   "source": [
    "def u_func_sampler(target_u_func, n_samples,xlim=[0,1],ylim=[0,1],nbin=50, *args, **kwargs):\n",
    "    \n",
    "    tx = np.linspace(xlim[0],xlim[1],nbin)\n",
    "    ty = np.linspace(ylim[0],ylim[1],nbin)\n",
    "\n",
    "    txv,tyv = np.meshgrid(tx, ty, sparse=False, indexing='ij')\n",
    "    txy = np.concatenate((txv.reshape([-1,1]),tyv.reshape([-1,1])),axis=1)\n",
    "    \n",
    "    log_p_grid = -target_u_func(txy, *args, **kwargs)\n",
    "    # print log_p_grid.shape\n",
    "    p_grid = np.exp(log_p_grid)\n",
    "    x_samples = weighted_sampling(txy,p_grid,n_samples)\n",
    "    # print x_samples.shape\n",
    "    dx = tx[1]-tx[0]\n",
    "    dy = ty[1]-ty[0]\n",
    "    dxy = np.array([dx,dy]).reshape([1,2])\n",
    "    \n",
    "    x_samples = x_samples + np.random.rand(n_samples,2)*dxy\n",
    "    \n",
    "    x_samples = x_samples.astype('float32')\n",
    "    return x_samples"
   ]
  },
  {
   "cell_type": "code",
   "execution_count": 11,
   "metadata": {
    "collapsed": true
   },
   "outputs": [],
   "source": [
    "htru = np.load('./HTRU2_3std_normalized.npy')#[:,:2]\n",
    "data_mean = np.reshape(np.mean(htru,axis=0),[1,-1])\n",
    "htru = htru - data_mean\n",
    "htru.shape\n",
    "np.random.shuffle(htru)\n",
    "htru = htru[:,:2]\n",
    "\n",
    "x_train = htru"
   ]
  },
  {
   "cell_type": "code",
   "execution_count": 12,
   "metadata": {
    "code_folding": [
     4
    ]
   },
   "outputs": [
    {
     "name": "stdout",
     "output_type": "stream",
     "text": [
      "[1.9733584463110023, 1.9609488921549725]\n"
     ]
    }
   ],
   "source": [
    "# Gaussian mixture\n",
    "\n",
    "from sklearn.mixture import GaussianMixture\n",
    "\n",
    "def GMM(data, ncluster=50):\n",
    "    \n",
    "    gmm = GaussianMixture(n_components=ncluster, covariance_type='full')\n",
    "\n",
    "    split = int(data.shape[0]*0.7)\n",
    "    train, test = data[:split], data[split:]\n",
    "\n",
    "    model = gmm.fit(train)\n",
    "\n",
    "    print([gmm.score(train), gmm.score(test)])\n",
    "    gw = gmm.weights_\n",
    "    gm = gmm.means_\n",
    "    gcv = gmm.covariances_\n",
    "    return gw, gm, gcv\n",
    "\n",
    "# Learn Gaussian mixture from data\n",
    "\n",
    "gw_, gm_, gcv_ = GMM(htru)\n",
    "\n",
    "import tensorflow_probability as tfp\n",
    "tfd = tfp.distributions\n",
    "\n",
    "# Create Gaussian mixture in TF\n",
    "\n",
    "gmm_model = tfd.MixtureSameFamily(\n",
    "    mixture_distribution=tfd.Categorical(probs=gw_),\n",
    "    components_distribution=tfd.MultivariateNormalFullCovariance(\n",
    "      loc=gm_,covariance_matrix=gcv_))"
   ]
  },
  {
   "cell_type": "code",
   "execution_count": 13,
   "metadata": {
    "collapsed": true
   },
   "outputs": [],
   "source": [
    "def nonparam_psi(x,hidden_size=64):\n",
    "    with tf.variable_scope('mlp',reuse=tf.AUTO_REUSE):\n",
    "        h1 = tf.layers.dense(x,hidden_size,activation=tf.nn.relu)\n",
    "        h2 = tf.layers.dense(h1,hidden_size,activation=tf.nn.relu)\n",
    "        o = tf.layers.dense(h2,1,activation=None,use_bias=False)\n",
    "    return o"
   ]
  },
  {
   "cell_type": "code",
   "execution_count": 14,
   "metadata": {
    "collapsed": true
   },
   "outputs": [],
   "source": [
    "# Set the bounding box, in this case, [-1,1]. \n",
    "# For toy models, use [-5,5]\n",
    "\n",
    "# a_0 = -5.\n",
    "# b_0 = 5.\n",
    "\n",
    "a_0 = -1.\n",
    "b_0 = 1."
   ]
  },
  {
   "cell_type": "code",
   "execution_count": 15,
   "metadata": {
    "collapsed": true
   },
   "outputs": [],
   "source": [
    "input_x = tf.placeholder(tf.float32, shape=[FLAGS.batch_size,FLAGS.dim])\n",
    "\n",
    "\n",
    "with tf.variable_scope('model',reuse=tf.AUTO_REUSE):\n",
    "    \n",
    "    b = tf.get_variable('b',shape=[1,])\n",
    "    \n",
    "# Standard NP potential\n",
    "psi = lambda x: nonparam_psi(x)\n",
    "\n",
    "# # Using GMM potential as baseline\n",
    "# psi = lambda x: 0.1*nonparam_psi(x)-tf.reshape(tf.cast(gmm_model.log_prob(tf.cast(x, tf.float64)), tf.float32),[-1,1])\n",
    "\n",
    "# # Unif proposal\n",
    "# prop_q = tf_unif_sampler(FLAGS.batch_size,FLAGS.dim,a=a_0,b=b_0)\n",
    "# logp_prop_q = -2*np.log(b_0-a_0)\n",
    "\n",
    "# GMM proposal\n",
    "prop_q = gmm_model.sample(sample_shape=FLAGS.batch_size)\n",
    "logp_prop_q = tf.reshape(gmm_model.log_prob(prop_q),[-1,1]) # reshape!! reshape!! reshape!!\n",
    "prop_q = tf.cast(prop_q, tf.float32)\n",
    "logp_prop_q = tf.stop_gradient(tf.cast(logp_prop_q, tf.float32))\n",
    "\n",
    "psi_x = psi(input_x)\n",
    "psi_q = psi(prop_q)\n",
    "\n",
    "# # entangled update of u, not recommended\n",
    "# u_x = psi_x + b\n",
    "\n",
    "# disentangled update of u, recommended\n",
    "u_x  = tf.stop_gradient(psi_x) + b\n",
    "\n",
    "# Importance sampling estimator\n",
    "log_uI_x = (psi_x - tf.stop_gradient(psi_x)) - b - psi_q - logp_prop_q\n",
    "loss = tf.reduce_mean(u_x+tf.exp(log_uI_x))\n",
    "\n",
    "u_params = [b]\n",
    "psi_params = [v for v in tf.get_collection(tf.GraphKeys.GLOBAL_VARIABLES) if v.name.startswith('mlp')]"
   ]
  },
  {
   "cell_type": "code",
   "execution_count": 16,
   "metadata": {
    "collapsed": true
   },
   "outputs": [],
   "source": [
    "learning_rate = tf.placeholder(tf.float32)\n",
    "\n",
    "u_learning_rate = 2*learning_rate\n",
    "u_optimizer = tf.train.AdamOptimizer(u_learning_rate)\n",
    "train_u = u_optimizer.minimize(loss,var_list=u_params)\n",
    "\n",
    "psi_learning_rate = 1e-1*learning_rate\n",
    "psi_optimizer = tf.train.AdamOptimizer(psi_learning_rate)\n",
    "train_psi = psi_optimizer.minimize(loss, var_list=psi_params)\n"
   ]
  },
  {
   "cell_type": "code",
   "execution_count": null,
   "metadata": {
    "collapsed": true
   },
   "outputs": [],
   "source": []
  },
  {
   "cell_type": "code",
   "execution_count": 17,
   "metadata": {
    "code_folding": [
     0
    ],
    "collapsed": true
   },
   "outputs": [],
   "source": [
    "def show_results():\n",
    "    \n",
    "    nbin = 50 # reported\n",
    "    # nbin = 200\n",
    "\n",
    "    x_grid = np.linspace(a_0,b_0,nbin)\n",
    "    y_grid = np.linspace(a_0,b_0,nbin)\n",
    "\n",
    "    xv, yv = np.meshgrid(x_grid, y_grid, sparse=False, indexing='ij')\n",
    "\n",
    "    txy = np.concatenate([xv.reshape([-1,1]),yv.reshape([-1,1])],axis=1)\n",
    "\n",
    "    dx = x_grid[1] - x_grid[0]\n",
    "    dy = y_grid[1] - y_grid[0]\n",
    "    dxy = dx*dy\n",
    "\n",
    "    _ = plt.figure(figsize=(9,5))\n",
    "\n",
    "    uxy = target_u_func(txy)\n",
    "    uxy = uxy.reshape([nbin,nbin])\n",
    "\n",
    "    psi_xy = tf_eval(u_x,nbin**2,feed_dict={input_x: txy})\n",
    "    psi_xy = psi_xy.reshape([nbin,nbin])\n",
    "\n",
    "    uxy_true = np.exp(-uxy)\n",
    "    uxy_mdl = np.exp(-psi_xy)\n",
    "    mdl_partition = np.sum(dxy*uxy_mdl)\n",
    "    true_partition = np.sum(dxy*uxy_true)\n",
    "\n",
    "    print([true_partition,mdl_partition])\n",
    "\n",
    "    _ = plt.subplot(1,2,1)\n",
    "    _ = plt.contour(xv,yv,uxy_true)\n",
    "    _ = plt.title('Ground-truth')\n",
    "    _ = plt.subplot(1,2,2)\n",
    "    _ = plt.contour(xv,yv,np.exp(-psi_xy))\n",
    "    _ = plt.title('NP estimation')\n",
    "\n",
    "    _ = plt.show()"
   ]
  },
  {
   "cell_type": "code",
   "execution_count": 18,
   "metadata": {
    "code_folding": [
     0
    ],
    "collapsed": true
   },
   "outputs": [],
   "source": [
    "def eval_fml(x_test,u_func,a_0=-5.,b_0=5.,nbin=50):\n",
    "    \n",
    "    # u_func = -logp+c\n",
    "\n",
    "    x_grid = np.linspace(a_0,b_0,nbin)\n",
    "    y_grid = np.linspace(a_0,b_0,nbin)\n",
    "\n",
    "    xv, yv = np.meshgrid(x_grid, y_grid, sparse=False, indexing='ij')\n",
    "\n",
    "    txy = np.concatenate([xv.reshape([-1,1]),yv.reshape([-1,1])],axis=1)\n",
    "\n",
    "    dx = x_grid[1] - x_grid[0]\n",
    "    dy = y_grid[1] - y_grid[0]\n",
    "    dxy = dx*dy\n",
    "    \n",
    "    uxy = u_func(txy)\n",
    "    uxy = uxy.reshape([nbin,nbin])\n",
    "\n",
    "    psi_xy = tf_eval(u_x,nbin**2,feed_dict={input_x: txy})\n",
    "    psi_xy = psi_xy.reshape([nbin,nbin])\n",
    "\n",
    "    uxy_true = np.exp(-uxy)\n",
    "    uxy_mdl = np.exp(-psi_xy)\n",
    "    mdl_partition = np.sum(dxy*uxy_mdl)\n",
    "    true_partition = np.sum(dxy*uxy_true)\n",
    "\n",
    "    # print([true_partition,mdl_partition])\n",
    "    \n",
    "    print('True partition: %.2e, Mdl partition: %.2f' % (true_partition,mdl_partition))\n",
    "    \n",
    "    psi_x_test = tf_eval(u_x,np.shape(x_test)[0],feed_dict={input_x: x_test})\n",
    "    u_x_test = u_func(x_test)\n",
    "    \n",
    "    logp_mdl_x_test = - psi_x_test - np.log(mdl_partition)\n",
    "    logp_true_x_test = - u_x_test - np.log(true_partition)\n",
    "    \n",
    "    \n",
    "    corr_score = np.corrcoef(logp_mdl_x_test.reshape([-1,]),logp_true_x_test.reshape([-1,]))[0,1]\n",
    "    print('corr_score = %.2e' % corr_score)\n",
    "    \n",
    "    print('E[log p_{mdl}] = %.4f' % np.mean(logp_mdl_x_test))\n",
    "    \n",
    "    # print('MSE = E[(log p_mdl - log p_u)^2] = %.3e' % np.mean((logp_mdl_x_test-logp_true_x_test)**2))\n",
    "    print('MAE = E[(log p_mdl - log p_u)] = %.3e' % np.mean(np.abs(logp_mdl_x_test-logp_true_x_test)))\n",
    "    \n",
    "    _ = plt.plot(logp_true_x_test,logp_mdl_x_test,'s')\n",
    "    \n",
    "    return ;\n",
    "    "
   ]
  },
  {
   "cell_type": "code",
   "execution_count": 19,
   "metadata": {
    "code_folding": [
     0
    ],
    "collapsed": true
   },
   "outputs": [],
   "source": [
    "def generate_data(n_samples= 1000, dataset= 'kidney'):\n",
    "    if dataset == 'kidney':\n",
    "        target_u_func = u1_np_param # kidney\n",
    "    elif dataset == 'banana':\n",
    "        target_u_func = lambda x: np.reshape(-banana_unnorm_logpdf(x),[-1,]) # banana\n",
    "    elif dataset == 'river':\n",
    "        target_u_func = u4_np_param # river\n",
    "    elif dataset == 'rings':\n",
    "        target_u_func = lambda x: np.reshape(rings_np_param(x),[-1,]) # rings\n",
    "    elif dataset == 'wave':\n",
    "        target_u_func = lambda x: np.reshape(u2_np_param(x),[-1,]) # wave\n",
    "\n",
    "    target_u_sampler = lambda m_samples: u_func_sampler(target_u_func, m_samples, xlim=[-5.,5.], ylim=[-5.,5.])\n",
    "\n",
    "    x_train = target_u_sampler(n_samples)\n",
    "    x_test = target_u_sampler(5*n_samples)\n",
    "\n",
    "    _ = plt.plot(x_train[:,0],x_train[:,1],'s')\n",
    "    return x_train, x_test, target_u_func"
   ]
  },
  {
   "cell_type": "code",
   "execution_count": 20,
   "metadata": {
    "code_folding": [
     0
    ]
   },
   "outputs": [
    {
     "data": {
      "image/png": "[encoded data removed]",
      "text/plain": [
       "<Figure size 792x360 with 2 Axes>"
      ]
     },
     "metadata": {
      "needs_background": "light"
     },
     "output_type": "display_data"
    }
   ],
   "source": [
    "def show_heatmap_density_contour(X,Y,bins=20,linestyles='solid'):\n",
    "    \n",
    "    if np.size(bins)==1:\n",
    "        bins = [bins,bins]\n",
    "    \n",
    "    Z,xedges,yedges = np.histogram2d(X,Y,bins=bins)\n",
    "\n",
    "    xx = .5*(xedges[:-1]+xedges[1:])\n",
    "    yy = .5*(yedges[:-1]+yedges[1:])\n",
    "\n",
    "    xv,yv = np.meshgrid(xx,yy)\n",
    "    \n",
    "    plt.contour(xv.T,yv.T,Z,cmap='jet',linestyles=linestyles)\n",
    "\n",
    "    \n",
    "    # Sample from learned GMM\n",
    "\n",
    "prop_q = gmm_model.sample(sample_shape=FLAGS.batch_size)\n",
    "\n",
    "\n",
    "a = 0.8\n",
    "q_samples = tf_eval(prop_q,1000)\n",
    "\n",
    "_ = plt.figure(figsize=(11,5))\n",
    "_ = plt.subplot(1,2,1)\n",
    "_ = plt.scatter(q_samples[:,0],q_samples[:,1])\n",
    "_ = plt.xlim([-a,a])\n",
    "_ = plt.ylim([-a,a])\n",
    "_ = plt.subplot(1,2,2)\n",
    "show_heatmap_density_contour(q_samples[:,0],q_samples[:,1],bins=30)\n",
    "_ = plt.xlim([-a,a])\n",
    "_ = plt.ylim([-a,a])"
   ]
  },
  {
   "cell_type": "code",
   "execution_count": 21,
   "metadata": {
    "code_folding": [
     0
    ],
    "collapsed": true
   },
   "outputs": [],
   "source": [
    "def check_dist(a_0=-1, b_0=1):\n",
    "    nbin = 50\n",
    "\n",
    "    x_grid = np.linspace(a_0,b_0,nbin)\n",
    "    y_grid = np.linspace(a_0,b_0,nbin)\n",
    "\n",
    "    xv, yv = np.meshgrid(x_grid, y_grid, sparse=False, indexing='ij')\n",
    "\n",
    "    txy = np.concatenate([xv.reshape([-1,1]),yv.reshape([-1,1])],axis=1)\n",
    "\n",
    "    dx = x_grid[1] - x_grid[0]\n",
    "    dy = y_grid[1] - y_grid[0]\n",
    "    dxy = dx*dy\n",
    "\n",
    "\n",
    "    psi_xy = tf_eval(u_x,nbin**2,feed_dict={input_x: txy})\n",
    "    psi_xy = psi_xy.reshape([nbin,nbin])\n",
    "    \n",
    "    gmm_psi_xy = -sess.run(gmm_model.log_prob(txy))\n",
    "    gmm_psi_xy = gmm_psi_xy.reshape([nbin,nbin])\n",
    "\n",
    "    uxy_mdl = np.exp(-psi_xy)\n",
    "    mdl_partition = np.sum(dxy*uxy_mdl)\n",
    "\n",
    "    _ = plt.figure(figsize=(11,5))\n",
    "    _ = plt.subplot(1,2,1)\n",
    "    plt.scatter(q_samples[:,0],q_samples[:,1])\n",
    "    _ = plt.contour(xv,yv,np.exp(-gmm_psi_xy))\n",
    "    \n",
    "    _ = plt.xlim([a_0,b_0])\n",
    "    _ = plt.ylim([a_0,b_0])\n",
    "    _ = plt.title('GMM')\n",
    "    _ = plt.subplot(1,2,2)\n",
    "    plt.scatter(q_samples[:,0],q_samples[:,1])\n",
    "    _ = plt.contour(xv,yv,np.exp(-psi_xy))\n",
    "    _ = plt.title('FML')\n",
    "\n",
    "\n",
    "    \n",
    "    _ = plt.show()"
   ]
  },
  {
   "cell_type": "code",
   "execution_count": 22,
   "metadata": {
    "collapsed": true
   },
   "outputs": [],
   "source": [
    "initializer = tf.global_variables_initializer()\n",
    "sess.run(initializer)"
   ]
  },
  {
   "cell_type": "code",
   "execution_count": 23,
   "metadata": {},
   "outputs": [
    {
     "data": {
      "text/plain": [
       "array([0.], dtype=float32)"
      ]
     },
     "execution_count": 23,
     "metadata": {},
     "output_type": "execute_result"
    }
   ],
   "source": [
    "# Initialize normalizing constant estimate b to zero when using \n",
    "# GMM as baseline\n",
    "\n",
    "sess.run(tf.assign(b,np.reshape(np.array([0]),[1,])))\n",
    "sess.run(b)"
   ]
  },
  {
   "cell_type": "code",
   "execution_count": 24,
   "metadata": {
    "scrolled": false
   },
   "outputs": [
    {
     "name": "stdout",
     "output_type": "stream",
     "text": [
      "[-0.1205396]\n",
      "Initialization\n"
     ]
    },
    {
     "data": {
      "image/png": "[encoded data removed]",
      "text/plain": [
       "<Figure size 792x360 with 2 Axes>"
      ]
     },
     "metadata": {
      "needs_background": "light"
     },
     "output_type": "display_data"
    },
    {
     "name": "stdout",
     "output_type": "stream",
     "text": [
      "0 0.18014607\n",
      "1 -0.36265728\n",
      "2 -0.5776646\n",
      "3 -0.84387046\n"
     ]
    },
    {
     "data": {
      "image/png": "[encoded data removed]",
      "text/plain": [
       "<Figure size 792x360 with 2 Axes>"
      ]
     },
     "metadata": {
      "needs_background": "light"
     },
     "output_type": "display_data"
    },
    {
     "name": "stdout",
     "output_type": "stream",
     "text": [
      "4 -1.0486636\n",
      "5 -0.88867533\n",
      "6 -0.7118293\n",
      "7 -0.7715133\n",
      "8 -1.0035458\n"
     ]
    },
    {
     "data": {
      "image/png": "[encoded data removed]",
      "text/plain": [
       "<Figure size 792x360 with 2 Axes>"
      ]
     },
     "metadata": {
      "needs_background": "light"
     },
     "output_type": "display_data"
    },
    {
     "name": "stdout",
     "output_type": "stream",
     "text": [
      "9 -0.8464495\n",
      "10 -0.7511413\n",
      "11 -0.74133754\n",
      "12 -1.0944066\n",
      "13 -0.8291303\n"
     ]
    },
    {
     "data": {
      "image/png": "[encoded data removed]",
      "text/plain": [
       "<Figure size 792x360 with 2 Axes>"
      ]
     },
     "metadata": {
      "needs_background": "light"
     },
     "output_type": "display_data"
    },
    {
     "name": "stdout",
     "output_type": "stream",
     "text": [
      "14 -0.9667889\n",
      "15 -0.8892432\n",
      "16 -0.8016124\n",
      "17 -1.0029407\n",
      "18 -1.0925857\n"
     ]
    },
    {
     "data": {
      "image/png": "[encoded data removed]",
      "text/plain": [
       "<Figure size 792x360 with 2 Axes>"
      ]
     },
     "metadata": {
      "needs_background": "light"
     },
     "output_type": "display_data"
    },
    {
     "name": "stdout",
     "output_type": "stream",
     "text": [
      "19 -0.8182699\n",
      "40.55925893783569\n"
     ]
    },
    {
     "data": {
      "image/png": "[encoded data removed]",
      "text/plain": [
       "<Figure size 432x288 with 1 Axes>"
      ]
     },
     "metadata": {
      "needs_background": "light"
     },
     "output_type": "display_data"
    }
   ],
   "source": [
    "lr = 3e-3\n",
    "max_updates = 500\n",
    "num_iter = 20\n",
    "\n",
    "t0 = time();\n",
    "\n",
    "loss_record = []\n",
    "\n",
    "n_samples = np.shape(x_train)[0]\n",
    "\n",
    "# Pre-train normalizing constant b\n",
    "\n",
    "for step in range(max_updates):\n",
    "    \n",
    "    inds = np.random.choice(n_samples,FLAGS.batch_size)\n",
    "    xx = x_train[inds]\n",
    "    \n",
    "    _ = sess.run([train_u],{input_x: xx, learning_rate: lr})\n",
    "    \n",
    "print(sess.run(b))\n",
    "\n",
    "print('Initialization')\n",
    "check_dist()\n",
    "\n",
    "\n",
    "for iterId in range(num_iter):\n",
    "    \n",
    "    for step in range(max_updates):\n",
    "        \n",
    "        inds = np.random.choice(n_samples,FLAGS.batch_size)\n",
    "        xx = x_train[inds]\n",
    "        \n",
    "        # FML training\n",
    "        _,_ = sess.run([train_u, train_psi],{input_x: xx, learning_rate: lr})\n",
    "        \n",
    "    if np.mod(iterId+1,5)==0:\n",
    "        check_dist()\n",
    "        \n",
    "    loss_val = sess.run(loss,{input_x: xx})\n",
    "    print(iterId, loss_val)\n",
    "    loss_record.append(loss_val)\n",
    "        \n",
    "_ = plt.plot(loss_record)\n",
    "\n",
    "\n",
    "t1 = time()\n",
    "print(t1-t0)"
   ]
  },
  {
   "cell_type": "code",
   "execution_count": 25,
   "metadata": {
    "code_folding": [
     4
    ],
    "collapsed": true
   },
   "outputs": [],
   "source": [
    "import tensorflow_probability as tfp\n",
    "tfd = tfp.distributions\n",
    "from sklearn import mixture\n",
    "\n",
    "def normalizer(target_log_prob, num_steps = 1000, num_chains = 3000, dims = 2, dtype = tf.float32):\n",
    "    proposal = tfd.MultivariateNormalDiag(\n",
    "        loc=tf.zeros(dims, dtype=dtype))\n",
    "\n",
    "    chains_state, ais_weights, kernels_results = (\n",
    "        tfp.mcmc.sample_annealed_importance_chain(\n",
    "            num_steps=num_steps,\n",
    "            proposal_log_prob_fn = proposal.log_prob,\n",
    "            target_log_prob_fn = target_log_prob,\n",
    "\n",
    "            current_state = proposal.sample(num_chains),\n",
    "            make_kernel_fn = lambda tlp_fn: tfp.mcmc.HamiltonianMonteCarlo(\n",
    "              target_log_prob_fn = tlp_fn,\n",
    "              step_size = 0.2,\n",
    "              num_leapfrog_steps = 2)))\n",
    "\n",
    "    log_estimated_normalizer = (tf.reduce_logsumexp(ais_weights)\n",
    "                                - np.log(num_chains))\n",
    "    normalizer = tf.exp(log_estimated_normalizer)\n",
    "    return normalizer"
   ]
  },
  {
   "cell_type": "code",
   "execution_count": 26,
   "metadata": {},
   "outputs": [
    {
     "name": "stdout",
     "output_type": "stream",
     "text": [
      "Normalizaing constant = 1.03\n"
     ]
    }
   ],
   "source": [
    "# Verifying the model is properly self-normalized \n",
    "# If estimated accurately, estimated_norm will be close to 1\n",
    "\n",
    "psi_vec = lambda x: tf.reshape(-psi(x)-b,[-1,])\n",
    "\n",
    "estimated_normalizer = normalizer(psi_vec,num_steps = 5000, num_chains = 3000)\n",
    "\n",
    "estimated_norm = sess.run(estimated_normalizer)\n",
    "print('Normalizaing constant = %.2f'%estimated_norm)"
   ]
  },
  {
   "cell_type": "code",
   "execution_count": null,
   "metadata": {
    "collapsed": true
   },
   "outputs": [],
   "source": []
  }
 ],
 "metadata": {
  "kernelspec": {
   "display_name": "Python 3",
   "language": "python",
   "name": "python3"
  },
  "language_info": {
   "codemirror_mode": {
    "name": "ipython",
    "version": 3
   },
   "file_extension": ".py",
   "mimetype": "text/x-python",
   "name": "python",
   "nbconvert_exporter": "python",
   "pygments_lexer": "ipython3",
   "version": "3.5.2"
  }
 },
 "nbformat": 4,
 "nbformat_minor": 2
}
